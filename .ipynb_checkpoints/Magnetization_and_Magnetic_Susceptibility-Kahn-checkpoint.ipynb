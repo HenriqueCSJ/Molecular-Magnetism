{
 "cells": [
  {
   "cell_type": "markdown",
   "metadata": {},
   "source": [
    "# Magnetization and Magnetic Susceptibility - Olivier Kahn\n",
    "\n",
    "## 1.1 Definitions and Units\n",
    "\n",
    "In this first Chapter we establish some key equations in molecular magnetism, which will be used extensively throughout this book. To begin with, we consider a sample containing **1 mol** of a molecular compound within an homogeneous magnetic field $H$. The sample acquires a molar magnetization $M$ related to $H$ through:\n",
    "\n",
    "\\begin{equation}\n",
    "\\frac{\\partial M}{\\partial H} = \\chi\n",
    "\\end{equation}\n",
    "\n",
    "where $\\chi$ is the molar magnetic susceptibility. $M$, which is also called the **molar magnetic moment**, is a vector, $H$ is an axial vector, and $\\chi$ is a second rank tensor. It is always possible to choose the reference axes in order for $\\chi$ to be diagonal with the $\\chi_{u}$ (u = x, y, z) principal values. If the sample is magnetically isotropic, then $\\chi$ becomes a scalar. When the magnetic field is weak enough, $\\chi$ is independent of $H$, such that one can write:\n",
    "\n",
    "\\begin{equation}\n",
    "M = \\chi H\n",
    "\\end{equation}\n",
    "\n",
    "The problem of units deserves a few words. The SI is the legal system, but legality is not science. Indeed, this system is particularly inappropriate in molecular magnetism and, like most of the researchers involved in this field, we prefer to use the **cgsemu** system. Strictly speaking the unit of magnetic field is the **oersted**. As many authors, however, we will express $H$ in **gauss** which is the unit of magnetic induction created by the magnetic field $H$. In the vacuum $B$ is related to $H$ through $B = \\mu_{0}H$, and the permeability $\\mu_{0}$ in the **cgsemu*** system is equal to 1. The volume magnetic susceptibility is a dimensionless quantity traditionally expressed in $emu/cm^{3}$  such that the dimension of emu is formally the $cm^{3}$. Therefore the molar magnetic susceptibility $mol^{-1}$. We will see that the quantity of interest is often $\\chi T$, which is the product of the molar magnetic susceptibility by the temperature. $\\chi T$ is expressed in $cm^{3}~K~mol^{-1}$."
   ]
  },
  {
   "cell_type": "code",
   "execution_count": null,
   "metadata": {
    "collapsed": true
   },
   "outputs": [],
   "source": []
  }
 ],
 "metadata": {
  "kernelspec": {
   "display_name": "Python 3",
   "language": "python",
   "name": "python3"
  },
  "language_info": {
   "codemirror_mode": {
    "name": "ipython",
    "version": 3
   },
   "file_extension": ".py",
   "mimetype": "text/x-python",
   "name": "python",
   "nbconvert_exporter": "python",
   "pygments_lexer": "ipython3",
   "version": "3.6.0"
  }
 },
 "nbformat": 4,
 "nbformat_minor": 2
}
